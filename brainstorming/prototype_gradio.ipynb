{
 "cells": [
  {
   "cell_type": "code",
   "execution_count": null,
   "metadata": {},
   "outputs": [],
   "source": []
  },
  {
   "cell_type": "markdown",
   "metadata": {},
   "source": [
    "### Prototype Gradio\n",
    "* Playing around with Gradio to see if it will work for demo'ing the short story idea\n",
    "* results: works with local images but not URLs will have to modify that\n",
    "* really wonky UI that breaks when trying to make it better. Ie each image on its own box etc. fine for simple prototype"
   ]
  },
  {
   "cell_type": "code",
   "execution_count": null,
   "metadata": {},
   "outputs": [],
   "source": [
    "\n",
    "# # Define the Gradio interface\n",
    "# interface = gr.Interface(\n",
    "#     fn=generate_images_and_captions,\n",
    "#     inputs=gr.Textbox(lines=2, placeholder=\"Enter your prompt here...\"),\n",
    "#     outputs=[gr.Image(type=\"filepath\", label=\"Generated Image\") for _ in range(5)] + [gr.Textbox(label=\"Caption\") for _ in range(5)],\n",
    "#     #layout=\"horizontal\"\n",
    "# )\n",
    "\n",
    "# # Launch the Gradio interface\n",
    "# interface.launch()\n",
    "\n"
   ]
  },
  {
   "cell_type": "code",
   "execution_count": 41,
   "metadata": {},
   "outputs": [
    {
     "name": "stdout",
     "output_type": "stream",
     "text": [
      "Running on local URL:  http://127.0.0.1:7884\n",
      "\n",
      "Thanks for being a Gradio user! If you have questions or feedback, please join our Discord server and chat with us: https://discord.gg/feTf9x3ZSB\n",
      "\n",
      "To create a public link, set `share=True` in `launch()`.\n"
     ]
    },
    {
     "data": {
      "text/html": [
       "<div><iframe src=\"http://127.0.0.1:7884/\" width=\"100%\" height=\"500\" allow=\"autoplay; camera; microphone; clipboard-read; clipboard-write;\" frameborder=\"0\" allowfullscreen></iframe></div>"
      ],
      "text/plain": [
       "<IPython.core.display.HTML object>"
      ]
     },
     "metadata": {},
     "output_type": "display_data"
    },
    {
     "data": {
      "text/plain": []
     },
     "execution_count": 41,
     "metadata": {},
     "output_type": "execute_result"
    }
   ],
   "source": [
    "import gradio as gr\n",
    "\n",
    "# Placeholder function to simulate LLM response\n",
    "def query_llm(prompt):\n",
    "    # This function should call your LLM and return the images and captions\n",
    "    # For this example, we return a list of URLs and captions\n",
    "    image_urls = [\n",
    "        \"C:\\\\Users\\\\simonthy\\\\Pictures\\\\large_square_middle_missing.png\",\n",
    "        \"C:\\\\Users\\\\simonthy\\\\Pictures\\\\foundation_model_checkerboard.png\",\n",
    "        \"C:\\\\Users\\\\simonthy\\\\Pictures\\\\large_square_middle_missing.png\",\n",
    "        \"C:\\\\Users\\\\simonthy\\\\Pictures\\\\large_square_middle_missing.png\",\n",
    "        \"C:\\\\Users\\\\simonthy\\\\Pictures\\\\large_square_middle_missing.png\",\n",
    "        #\"https://en.wikipedia.org/wiki/Main_Page#/media/File:2024_Summer_Paralympic_Games_opening_ceremony_-_balloon_carrying_Paralympic_flame_3000.jpg\"\n",
    "        #\"https://en.wikipedia.org/wiki/Main_Page#/media/File:Falcon's_Fury_(August_17,_2014).jpg\",\n",
    "        # \"https://example.com/image2.jpg\",\n",
    "        # \"https://example.com/image3.jpg\",\n",
    "        # \"https://example.com/image4.jpg\",\n",
    "        # \"https://example.com/image5.jpg\"\n",
    "    ]\n",
    "    captions = [\n",
    "        \"asdf Caption for image 1\",\n",
    "        \"fly Caption for image 2\",\n",
    "        \"Caption for image 3\",\n",
    "        \"Caption for image 4\",\n",
    "        \"Caption for image 5\"\n",
    "    ]\n",
    "\n",
    "    #image_urls_captions_list = zip(image_urls, captions)\n",
    "    return image_urls, captions\n",
    "\n",
    "\n",
    "def generate_ui(prompt):\n",
    "    images, captions = query_llm(prompt)\n",
    "    #return [(img, cap) for img, cap in zip(images, captions)]\n",
    "    return images, \"\\n\".join(captions)\n",
    "\n",
    "# Create the Gradio interface\n",
    "interface = gr.Interface(\n",
    "    fn=generate_ui,\n",
    "    #fn=query_llm,\n",
    "    inputs=\"text\",\n",
    "    outputs=[gr.Gallery(label=\"Generated Images\"), \"text\"],\n",
    "    #outputs=[gr.Image(type=\"filepath\", label=\"Generated Image\"), gr.Textbox(label=\"Caption\")],\n",
    "    title=\"LLM Image Generator\",\n",
    "    description=\"Enter a prompt and see the generated images with captions.\"\n",
    ")\n",
    "\n",
    "# Launch the interface\n",
    "interface.launch()"
   ]
  },
  {
   "cell_type": "code",
   "execution_count": 10,
   "metadata": {},
   "outputs": [
    {
     "name": "stdout",
     "output_type": "stream",
     "text": [
      "Running on local URL:  http://127.0.0.1:7869\n",
      "\n",
      "To create a public link, set `share=True` in `launch()`.\n"
     ]
    },
    {
     "data": {
      "text/html": [
       "<div><iframe src=\"http://127.0.0.1:7869/\" width=\"100%\" height=\"500\" allow=\"autoplay; camera; microphone; clipboard-read; clipboard-write;\" frameborder=\"0\" allowfullscreen></iframe></div>"
      ],
      "text/plain": [
       "<IPython.core.display.HTML object>"
      ]
     },
     "metadata": {},
     "output_type": "display_data"
    },
    {
     "data": {
      "text/plain": []
     },
     "execution_count": 10,
     "metadata": {},
     "output_type": "execute_result"
    }
   ],
   "source": [
    "import gradio as gr\n",
    "\n",
    "# Placeholder function to simulate LLM response\n",
    "def query_llm(prompt):\n",
    "    # This function should call your LLM and return the images and captions\n",
    "    # For this example, we return a list of URLs and captions\n",
    "    image_urls = [\n",
    "        \"C:\\\\Users\\\\simonthy\\\\Pictures\\\\large_square_middle_missing.png\",\n",
    "        \"C:\\\\Users\\\\simonthy\\\\Pictures\\\\foundation_model_checkerboard.png\",\n",
    "        \"C:\\\\Users\\\\simonthy\\\\Pictures\\\\large_square_middle_missing.png\",\n",
    "        \"C:\\\\Users\\\\simonthy\\\\Pictures\\\\large_square_middle_missing.png\",\n",
    "        \"C:\\\\Users\\\\simonthy\\\\Pictures\\\\large_square_middle_missing.png\",\n",
    "        #\"https://en.wikipedia.org/wiki/Main_Page#/media/File:2024_Summer_Paralympic_Games_opening_ceremony_-_balloon_carrying_Paralympic_flame_3000.jpg\"\n",
    "        #\"https://en.wikipedia.org/wiki/Main_Page#/media/File:Falcon's_Fury_(August_17,_2014).jpg\",\n",
    "        # \"https://example.com/image2.jpg\",\n",
    "        # \"https://example.com/image3.jpg\",\n",
    "        # \"https://example.com/image4.jpg\",\n",
    "        # \"https://example.com/image5.jpg\"\n",
    "    ]\n",
    "    captions = [\n",
    "        \"asdf Caption for image 1\",\n",
    "        \"fly Caption for image 2\",\n",
    "        \"Caption for image 3\",\n",
    "        \"Caption for image 4\",\n",
    "        \"Caption for image 5\"\n",
    "    ]\n",
    "\n",
    "    for image_number in range(len(captions)):\n",
    "        captions[image_number] = f\"Image {image_number + 1}: \" + captions[image_number]\n",
    "\n",
    "    #image_urls_captions_list = zip(image_urls, captions)\n",
    "    return image_urls, captions\n",
    "\n",
    "\n",
    "def generate_ui(prompt):\n",
    "    images, captions = query_llm(prompt)\n",
    "    #return [(img, cap) for img, cap in zip(images, captions)]\n",
    "    return images, captions #\"\\n\".join(captions)\n",
    "\n",
    "\n",
    "\n",
    "\n",
    "# Create the Gradio interface\n",
    "with gr.Blocks() as interface:\n",
    "    gr.Markdown(\"## LLM Image Generator\\nEnter a prompt and see the generated images with captions.\")\n",
    "    prompt_input = gr.Textbox(label=\"Prompt\")\n",
    "\n",
    "    # Button to submit the prompt and get the output\n",
    "    generate_button = gr.Button(\"Generate\")\n",
    "\n",
    "    with gr.Row():\n",
    "        with gr.Column():\n",
    "            image_gallery = gr.Gallery(label=\"Generated Images\")\n",
    "        with gr.Column():\n",
    "            caption_text = gr.Textbox(label=\"Captions\")\n",
    "\n",
    "    \n",
    "    # Link the components together\n",
    "    generate_button.click(fn=generate_ui, inputs=prompt_input, outputs=[image_gallery, caption_text])\n",
    "\n",
    "# Launch the interface\n",
    "interface.launch()\n"
   ]
  },
  {
   "cell_type": "code",
   "execution_count": null,
   "metadata": {},
   "outputs": [],
   "source": []
  },
  {
   "cell_type": "markdown",
   "metadata": {},
   "source": [
    "### Simple prototype"
   ]
  },
  {
   "cell_type": "code",
   "execution_count": 15,
   "metadata": {},
   "outputs": [
    {
     "name": "stdout",
     "output_type": "stream",
     "text": [
      "Running on local URL:  http://127.0.0.1:7874\n",
      "\n",
      "To create a public link, set `share=True` in `launch()`.\n"
     ]
    },
    {
     "data": {
      "text/html": [
       "<div><iframe src=\"http://127.0.0.1:7874/\" width=\"100%\" height=\"500\" allow=\"autoplay; camera; microphone; clipboard-read; clipboard-write;\" frameborder=\"0\" allowfullscreen></iframe></div>"
      ],
      "text/plain": [
       "<IPython.core.display.HTML object>"
      ]
     },
     "metadata": {},
     "output_type": "display_data"
    },
    {
     "data": {
      "text/plain": []
     },
     "execution_count": 15,
     "metadata": {},
     "output_type": "execute_result"
    }
   ],
   "source": [
    "import gradio as gr\n",
    "\n",
    "# Placeholder function to simulate LLM response\n",
    "def query_llm(prompt):\n",
    "    # This function should call your LLM and return the images and captions\n",
    "    # For this example, we return a list of URLs and captions\n",
    "    image_urls = [\n",
    "        \"C:\\\\Users\\\\simonthy\\\\Pictures\\\\large_square_middle_missing.png\",\n",
    "        \"C:\\\\Users\\\\simonthy\\\\Pictures\\\\foundation_model_checkerboard.png\",\n",
    "        \"C:\\\\Users\\\\simonthy\\\\Pictures\\\\large_square_middle_missing.png\",\n",
    "        \"C:\\\\Users\\\\simonthy\\\\Pictures\\\\large_square_middle_missing.png\",\n",
    "        \"C:\\\\Users\\\\simonthy\\\\Pictures\\\\large_square_middle_missing.png\"\n",
    "    ]\n",
    "    captions = [\n",
    "        \"Caption for image 1\",\n",
    "        \"Caption for image 2\",\n",
    "        \"Caption for image 3\",\n",
    "        \"Caption for image 4\",\n",
    "        \"Caption for image 5\"\n",
    "    ]\n",
    "\n",
    "    # Format captions\n",
    "    formatted_captions = [f\"Image {i + 1}: {captions[i]}\" for i in range(len(captions))]\n",
    "\n",
    "    return image_urls, formatted_captions\n",
    "\n",
    "\n",
    "def generate_ui(prompt):\n",
    "    images, captions = query_llm(prompt)\n",
    "    # Prepare the caption string for the Textbox\n",
    "    #caption_str = \"\\n\".join([f\"{caption} - {img}\" for caption, img in zip(captions, images)])\n",
    "    caption_str = \"\\n\".join([f\"{caption} \" for caption in captions])#zip(captions, images)])\n",
    "    return \"sample chat response\", images, caption_str, \n",
    "\n",
    "\n",
    "# Create the Gradio interface\n",
    "with gr.Blocks() as interface:\n",
    "    gr.Markdown(\"## LLM Image Generator\\nEnter a prompt and see the generated images with captions.\")\n",
    "    prompt_input = gr.Textbox(label=\"Prompt\")\n",
    "\n",
    "    # Button to submit the prompt and get the output\n",
    "    generate_button = gr.Button(\"Generate\")\n",
    "\n",
    "    # Textbox to display the LLM's chat response\n",
    "    chat_response_box = gr.Textbox(label=\"LLM Chat Response\", lines=4)\n",
    "\n",
    "    with gr.Row():\n",
    "        with gr.Column():\n",
    "            image_gallery = gr.Gallery(label=\"Generated Images\", elem_id=\"image-gallery\")\n",
    "        with gr.Column():\n",
    "            caption_text = gr.Textbox(label=\"Captions\")\n",
    "\n",
    "    # Link the components together\n",
    "    generate_button.click(fn=generate_ui, inputs=prompt_input, outputs=[chat_response_box, image_gallery, caption_text])\n",
    "\n",
    "# Launch the interface\n",
    "interface.launch()\n"
   ]
  },
  {
   "cell_type": "code",
   "execution_count": null,
   "metadata": {},
   "outputs": [],
   "source": []
  },
  {
   "cell_type": "code",
   "execution_count": null,
   "metadata": {},
   "outputs": [],
   "source": []
  }
 ],
 "metadata": {
  "kernelspec": {
   "display_name": "aug2024",
   "language": "python",
   "name": "python3"
  },
  "language_info": {
   "codemirror_mode": {
    "name": "ipython",
    "version": 3
   },
   "file_extension": ".py",
   "mimetype": "text/x-python",
   "name": "python",
   "nbconvert_exporter": "python",
   "pygments_lexer": "ipython3",
   "version": "3.9.9"
  }
 },
 "nbformat": 4,
 "nbformat_minor": 2
}
