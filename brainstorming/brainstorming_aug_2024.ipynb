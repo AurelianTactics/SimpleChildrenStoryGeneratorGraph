{
 "cells": [
  {
   "cell_type": "code",
   "execution_count": null,
   "metadata": {},
   "outputs": [],
   "source": [
    "'''\n",
    "working:\n",
    "research a simple model for getting an image\n",
    "get the necessary API key etc\n",
    "pull a simple image\n",
    "duplicate for text\n",
    "\n",
    "get text from a foundation model\n",
    "get images from a foundation model\n",
    "\n",
    "\n",
    "backlog\n",
    "prompt base\n",
    "more foundation models\n",
    "text and image align\n",
    "text and image on the same page\n",
    "cleaner view\n",
    "easier to use tool\n",
    "can hire a human for parts\n",
    "can input your own image and ask the foundation model to riff based on it\n",
    "account info\n",
    "langgraph and agentic flow\n",
    "greater monitoring\n",
    "'''"
   ]
  },
  {
   "cell_type": "code",
   "execution_count": null,
   "metadata": {},
   "outputs": [],
   "source": [
    "# using langchain connect to a foundation model and query the model\n",
    "\n",
    "\n"
   ]
  }
 ],
 "metadata": {
  "kernelspec": {
   "display_name": "aug2024",
   "language": "python",
   "name": "python3"
  },
  "language_info": {
   "name": "python",
   "version": "3.9.9"
  }
 },
 "nbformat": 4,
 "nbformat_minor": 2
}
