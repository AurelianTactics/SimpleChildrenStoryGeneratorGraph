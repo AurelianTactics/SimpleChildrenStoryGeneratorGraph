{
 "cells": [
  {
   "cell_type": "code",
   "execution_count": null,
   "metadata": {},
   "outputs": [],
   "source": [
    "'''\n",
    "working\n",
    "\n",
    "outline\n",
    "    DONE v 0.1 langgraph chatbot based implementation\n",
    "        default prompt and purpose\n",
    "        implements a minimal example based on that prompt\n",
    "        asks for user feedback ends\n",
    "    DONE v 0.2 add a second LLM as an editor\n",
    "        second LLM as an editor\n",
    "    v 0.3 add LLM editor and critic\n",
    "        add edge from editor to critic\n",
    "        conditional edge from critic to writer if doesn't like. pass in the editor's output\n",
    "        conditional edge from writer to user if needs more help\n",
    "\n",
    "    v 0.4 context, and memory, streaming\n",
    "\n",
    "    grab from back log\n",
    "        langsmith\n",
    "        test stopping and stepping through the state and graph\n",
    "        then images\n",
    "\n",
    "backlog\n",
    "    different naems for the assistants\n",
    "    practice steping through the state and graph and seeing the issues\n",
    "    improved prompt templates\n",
    "    improved prompts with n shot context\n",
    "    langsmith\n",
    "    incorporate images\n",
    "        find something cheap for first\n",
    "    better interface\n",
    "        notebook -> gradio/langchain default -> node.js\n",
    "    cicd\n",
    "\n",
    "'''"
   ]
  },
  {
   "cell_type": "code",
   "execution_count": null,
   "metadata": {},
   "outputs": [],
   "source": [
    "# _set_env(\"LANGSMITH_API_KEY\")\n",
    "# os.environ[\"LANGCHAIN_TRACING_V2\"] = \"true\"\n",
    "# os.environ[\"LANGCHAIN_PROJECT\"] = \"LangGraph Tutorial\""
   ]
  },
  {
   "cell_type": "markdown",
   "metadata": {},
   "source": [
    "### v0.1 Langraph chatbot\n",
    "* https://langchain-ai.github.io/langgraph/tutorials/introduction/#setup"
   ]
  },
  {
   "cell_type": "code",
   "execution_count": 1,
   "metadata": {},
   "outputs": [],
   "source": [
    "import getpass\n",
    "import os\n",
    "\n",
    "\n",
    "def _set_env(var: str):\n",
    "    if not os.environ.get(var):\n",
    "        os.environ[var] = getpass.getpass(f\"{var}: \")\n",
    "\n",
    "\n",
    "_set_env(\"OPENAI_API_KEY\")"
   ]
  },
  {
   "cell_type": "code",
   "execution_count": 3,
   "metadata": {},
   "outputs": [],
   "source": []
  },
  {
   "cell_type": "code",
   "execution_count": 9,
   "metadata": {},
   "outputs": [
    {
     "name": "stdout",
     "output_type": "stream",
     "text": [
      "Assistant: Hello! How can I assist you today?\n",
      "Assistant: The capital of Nova Scotia is Halifax.\n",
      "Goodbye!\n"
     ]
    }
   ],
   "source": [
    "from typing import Annotated\n",
    "\n",
    "#from langchain_anthropic import ChatAnthropic\n",
    "from langchain_openai import OpenAI, ChatOpenAI\n",
    "from typing_extensions import TypedDict\n",
    "\n",
    "from langgraph.graph import StateGraph\n",
    "from langgraph.graph.message import add_messages\n",
    "\n",
    "\n",
    "class State(TypedDict):\n",
    "    messages: Annotated[list, add_messages]\n",
    "\n",
    "\n",
    "graph_builder = StateGraph(State)\n",
    "\n",
    "\n",
    "#llm = ChatAnthropic(model=\"claude-3-haiku-20240307\")\n",
    "#llm = OpenAI(model_name=)\n",
    "llm = ChatOpenAI(model_name=\"gpt-3.5-turbo\")\n",
    "\n",
    "\n",
    "def chatbot(state: State):\n",
    "    return {\"messages\": [llm.invoke(state[\"messages\"])]}\n",
    "\n",
    "\n",
    "# The first argument is the unique node name\n",
    "# The second argument is the function or object that will be called whenever\n",
    "# the node is used.\n",
    "graph_builder.add_node(\"chatbot\", chatbot)\n",
    "graph_builder.set_entry_point(\"chatbot\")\n",
    "graph_builder.set_finish_point(\"chatbot\")\n",
    "graph = graph_builder.compile()\n",
    "\n",
    "while True:\n",
    "    user_input = input(\"User: \")\n",
    "    if user_input.lower() in [\"quit\", \"exit\", \"q\"]:\n",
    "        print(\"Goodbye!\")\n",
    "        break\n",
    "    for event in graph.stream({\"messages\": (\"user\", user_input)}):\n",
    "        for value in event.values():\n",
    "            print(\"Assistant:\", value[\"messages\"][-1].content)"
   ]
  },
  {
   "cell_type": "code",
   "execution_count": 10,
   "metadata": {},
   "outputs": [
    {
     "data": {
      "image/jpeg": "[encoded data removed]",
      "text/plain": [
       "<IPython.core.display.Image object>"
      ]
     },
     "metadata": {},
     "output_type": "display_data"
    }
   ],
   "source": [
    "from IPython.display import Image, display\n",
    "\n",
    "try:\n",
    "    display(Image(graph.get_graph().draw_mermaid_png()))\n",
    "except Exception:\n",
    "    # This requires some extra dependencies and is optional\n",
    "    pass"
   ]
  },
  {
   "cell_type": "markdown",
   "metadata": {},
   "source": [
    "### v0.2 Add the editor"
   ]
  },
  {
   "cell_type": "code",
   "execution_count": 23,
   "metadata": {},
   "outputs": [
    {
     "data": {
      "image/jpeg": "[encoded data removed]",
      "text/plain": [
       "<IPython.core.display.Image object>"
      ]
     },
     "metadata": {},
     "output_type": "display_data"
    }
   ],
   "source": [
    "from typing import Annotated\n",
    "\n",
    "#from langchain_anthropic import ChatAnthropic\n",
    "from langchain_openai import OpenAI, ChatOpenAI\n",
    "from typing_extensions import TypedDict\n",
    "\n",
    "from langgraph.graph import StateGraph\n",
    "from langgraph.graph.message import add_messages\n",
    "\n",
    "\n",
    "class State(TypedDict):\n",
    "    messages: Annotated[list, add_messages]\n",
    "\n",
    "\n",
    "graph_builder = StateGraph(State)\n",
    "\n",
    "\n",
    "#llm = ChatAnthropic(model=\"claude-3-haiku-20240307\")\n",
    "#llm = OpenAI(model_name=)\n",
    "writer_llm = ChatOpenAI(model_name=\"gpt-3.5-turbo\")\n",
    "editor_llm = ChatOpenAI(model_name=\"gpt-3.5-turbo\")\n",
    "\n",
    "# Define the prompts\n",
    "writer_prompt = '''\n",
    "    You are a creative writer. Please write a short story for children under five years old based on the following input.\n",
    "    The story should be no more than 10 sentences.\n",
    "    '''\n",
    "\n",
    "editor_prompt = '''\n",
    "    You are an editor. Please review and edit the following story for clarity, brevity, and grammar.\n",
    "    The story is for children under five years old. The story should be no more than 10 sentences.\n",
    "    '''\n",
    "\n",
    "\n",
    "def writer_chatbot(state: State):\n",
    "    state[\"messages\"].append((\"system\", writer_prompt))\n",
    "\n",
    "    response = writer_llm.invoke(state[\"messages\"])\n",
    "\n",
    "    state[\"messages\"].append(response)\n",
    "\n",
    "    return state\n",
    "    \n",
    "\n",
    "def editor_chatbot(state: State):\n",
    "    state[\"messages\"].append((\"system\", editor_prompt))\n",
    "\n",
    "    response = editor_llm.invoke(state[\"messages\"])\n",
    "\n",
    "    state[\"messages\"].append(response)\n",
    "    return state\n",
    "    \n",
    "\n",
    "\n",
    "# The first argument is the unique node name\n",
    "# The second argument is the function or object that will be called whenever\n",
    "# the node is used.\n",
    "graph_builder.add_node(\"writer_chatbot\", writer_chatbot)\n",
    "graph_builder.add_node(\"editor_chatbot\", editor_chatbot)\n",
    "\n",
    "graph_builder.set_entry_point(\"writer_chatbot\")\n",
    "graph_builder.set_finish_point(\"editor_chatbot\")\n",
    "\n",
    "graph_builder.add_edge(\"writer_chatbot\", \"editor_chatbot\")\n",
    "#graph_builder.add_edge(\"editor_chatbot\", \"writer_chatbot\")\n",
    "\n",
    "\n",
    "graph = graph_builder.compile()\n",
    "\n",
    "\n",
    "from IPython.display import Image, display\n",
    "\n",
    "try:\n",
    "    display(Image(graph.get_graph().draw_mermaid_png()))\n",
    "except Exception:\n",
    "    # This requires some extra dependencies and is optional\n",
    "    pass"
   ]
  },
  {
   "cell_type": "code",
   "execution_count": 40,
   "metadata": {},
   "outputs": [
    {
     "name": "stdout",
     "output_type": "stream",
     "text": [
      "('writer_chatbot: Once upon a time, in a cozy little pond, there lived a happy '\n",
      " 'green frog named Freddy. Freddy loved to hop around and play all day long. '\n",
      " 'One sunny morning, he met a friendly duck named Daisy. They quickly became '\n",
      " 'best friends and spent their days swimming and exploring together. One day, '\n",
      " 'a big storm came and flooded the pond. Freddy and Daisy had to work together '\n",
      " 'to find a safe place to hide. They found a hollow log and huddled together '\n",
      " 'until the storm passed. After the storm, the sun came out and the pond was '\n",
      " 'even more beautiful than before. Freddy and Daisy were grateful for each '\n",
      " \"other's friendship and continued to have fun adventures together. And from \"\n",
      " 'that day on, they knew that no matter what challenges came their way, they '\n",
      " 'could always count on each other. The end.')\n",
      "('editor_chatbot: Once upon a time, in a cozy pond, there lived a happy green '\n",
      " 'frog named Freddy. Freddy loved to hop and play all day. One sunny morning, '\n",
      " 'he met a friendly duck named Daisy. They became best friends and had fun '\n",
      " 'swimming and exploring together. One day, a big storm flooded the pond. '\n",
      " 'Freddy and Daisy found a safe place in a hollow log and waited together. '\n",
      " 'After the storm, the sun came out, making the pond beautiful. Freddy and '\n",
      " 'Daisy were grateful for each other and continued to have fun adventures. '\n",
      " 'They knew they could always count on each other. The end.')\n",
      "('writer_chatbot: Once upon a time, in a magical forest, there lived a little '\n",
      " 'bunny named Lily. Lily loved to hop and play all day long. One day, as she '\n",
      " 'was exploring the forest, she stumbled upon a sparkling river. Curious, Lily '\n",
      " 'followed the river and discovered a beautiful meadow filled with colorful '\n",
      " 'flowers. The flowers whispered to Lily, inviting her to join in a joyful '\n",
      " 'dance. Lily happily hopped and twirled with the flowers, feeling the magic '\n",
      " 'of the forest all around her. As the sun began to set, Lily bid farewell to '\n",
      " 'her new flower friends and hopped back home, feeling grateful for the '\n",
      " 'wonderful day she had. And from that day on, Lily visited the meadow often '\n",
      " 'to dance with her flower friends under the twinkling stars. The end.')\n",
      "('editor_chatbot: Once upon a time, in a magical forest, there lived a little '\n",
      " 'bunny named Lily. Lily loved to hop and play all day long. One day, while '\n",
      " 'exploring the forest, she found a sparkling river. Curious, Lily followed '\n",
      " 'the river and discovered a meadow full of colorful flowers. The flowers '\n",
      " 'invited her to dance, and Lily happily twirled with them. As the sun set, '\n",
      " 'Lily said goodbye to her new friends and returned home, feeling grateful for '\n",
      " 'the magical day. From then on, Lily visited the meadow to dance under the '\n",
      " 'twinkling stars with her flower friends. The end.')\n",
      "Goodbye!\n"
     ]
    }
   ],
   "source": [
    "import pprint\n",
    "\n",
    "while True:\n",
    "    user_input = input(\"User: \")\n",
    "    if user_input.lower() in [\"quit\", \"exit\", \"q\"]:\n",
    "        print(\"Goodbye!\")\n",
    "        break\n",
    "    for event in graph.stream({\"messages\": (\"user\", user_input)}):\n",
    "        #for value in event.values():\n",
    "        for key, value in event.items():\n",
    "            #print(\"Assistant:\", value[\"messages\"][-1].content)\n",
    "            message_str = f'''{key}: {value[\"messages\"][-1].content}'''\n",
    "            pprint.pprint(message_str)\n"
   ]
  },
  {
   "cell_type": "code",
   "execution_count": 39,
   "metadata": {},
   "outputs": [
    {
     "data": {
      "text/plain": [
       "dict_items([('editor_chatbot', {'messages': [HumanMessage(content='write me a story about a frog', id='4c9d4bca-b6d0-4444-9762-1e1927d68cb7'), SystemMessage(content='\\n    You are a creative writer. Please write a short story for children under five years old based on the following input.\\n    The story should be no more than 10 sentences.\\n    ', id='4ce6df95-29c1-406c-8efc-e425694a8ec3'), AIMessage(content='Once upon a time, in a peaceful pond, there lived a little green frog named Freddy. Freddy loved to hop around and explore the water lilies and reeds. One day, while playing by the shore, he saw a colorful butterfly fluttering by. \"Hello, little butterfly!\" Freddy croaked happily. The butterfly landed on Freddy\\'s nose and they became fast friends. They played together all day, chasing each other around the pond. As the sun began to set, the butterfly had to leave to find a place to sleep for the night. But before leaving, he promised to come back and visit Freddy the next day. Freddy smiled and watched his new friend fly away, feeling grateful for the wonderful day they had shared. And so, the little frog fell asleep under the moonlit sky, dreaming of more adventures with his butterfly friend. The end.', additional_kwargs={'refusal': None}, response_metadata={'token_usage': {'completion_tokens': 173, 'prompt_tokens': 56, 'total_tokens': 229}, 'model_name': 'gpt-3.5-turbo-0125', 'system_fingerprint': None, 'finish_reason': 'stop', 'logprobs': None}, id='run-7ba6e580-bb72-4473-8ad5-4823eaaffd41-0', usage_metadata={'input_tokens': 56, 'output_tokens': 173, 'total_tokens': 229}), SystemMessage(content='\\n    You are a creative writer. Please write a short story for children under five years old based on the following input.\\n    The story should be no more than 10 sentences.\\n    ', id='10e026f2-bb3d-42db-8015-eccf38ba005b'), ('system', '\\n    You are an editor. Please review and edit the following story for clarity, brevity, and grammar.\\n    The story is for children under five years old. The story should be no more than 10 sentences.\\n    '), AIMessage(content='In a cozy pond, there was a little frog named Freddy. Freddy loved to hop and play in the water. One day, he met a colorful butterfly named Bella. They became fast friends and played all day. When the sun began to set, Bella had to go find a place to sleep. Freddy smiled and watched her fly away, excited for their next adventure. As the moon rose, Freddy fell asleep, dreaming of his new friend. The end.', additional_kwargs={'refusal': None}, response_metadata={'token_usage': {'completion_tokens': 92, 'prompt_tokens': 326, 'total_tokens': 418}, 'model_name': 'gpt-3.5-turbo-0125', 'system_fingerprint': None, 'finish_reason': 'stop', 'logprobs': None}, id='run-7a2cb70c-579e-4150-878e-fe7919645daf-0', usage_metadata={'input_tokens': 326, 'output_tokens': 92, 'total_tokens': 418})]})])"
      ]
     },
     "execution_count": 39,
     "metadata": {},
     "output_type": "execute_result"
    }
   ],
   "source": [
    "event.items()"
   ]
  },
  {
   "cell_type": "code",
   "execution_count": 33,
   "metadata": {},
   "outputs": [
    {
     "data": {
      "text/plain": [
       "['__class__',\n",
       " '__class_getitem__',\n",
       " '__contains__',\n",
       " '__delattr__',\n",
       " '__delitem__',\n",
       " '__dir__',\n",
       " '__doc__',\n",
       " '__eq__',\n",
       " '__format__',\n",
       " '__ge__',\n",
       " '__getattribute__',\n",
       " '__getitem__',\n",
       " '__gt__',\n",
       " '__hash__',\n",
       " '__init__',\n",
       " '__init_subclass__',\n",
       " '__ior__',\n",
       " '__iter__',\n",
       " '__le__',\n",
       " '__len__',\n",
       " '__lt__',\n",
       " '__ne__',\n",
       " '__new__',\n",
       " '__or__',\n",
       " '__reduce__',\n",
       " '__reduce_ex__',\n",
       " '__repr__',\n",
       " '__reversed__',\n",
       " '__ror__',\n",
       " '__setattr__',\n",
       " '__setitem__',\n",
       " '__sizeof__',\n",
       " '__str__',\n",
       " '__subclasshook__',\n",
       " 'clear',\n",
       " 'copy',\n",
       " 'fromkeys',\n",
       " 'get',\n",
       " 'items',\n",
       " 'keys',\n",
       " 'pop',\n",
       " 'popitem',\n",
       " 'setdefault',\n",
       " 'update',\n",
       " 'values']"
      ]
     },
     "execution_count": 33,
     "metadata": {},
     "output_type": "execute_result"
    }
   ],
   "source": [
    "dir(value)"
   ]
  },
  {
   "cell_type": "code",
   "execution_count": 38,
   "metadata": {},
   "outputs": [
    {
     "data": {
      "text/plain": [
       "dict_keys(['editor_chatbot'])"
      ]
     },
     "execution_count": 38,
     "metadata": {},
     "output_type": "execute_result"
    }
   ],
   "source": [
    "event.keys()"
   ]
  },
  {
   "cell_type": "code",
   "execution_count": 37,
   "metadata": {},
   "outputs": [
    {
     "data": {
      "text/plain": [
       "['__add__',\n",
       " '__class__',\n",
       " '__class_getitem__',\n",
       " '__contains__',\n",
       " '__delattr__',\n",
       " '__delitem__',\n",
       " '__dict__',\n",
       " '__dir__',\n",
       " '__doc__',\n",
       " '__eq__',\n",
       " '__format__',\n",
       " '__ge__',\n",
       " '__getattribute__',\n",
       " '__getitem__',\n",
       " '__gt__',\n",
       " '__hash__',\n",
       " '__init__',\n",
       " '__init_subclass__',\n",
       " '__ior__',\n",
       " '__iter__',\n",
       " '__le__',\n",
       " '__len__',\n",
       " '__lt__',\n",
       " '__module__',\n",
       " '__ne__',\n",
       " '__new__',\n",
       " '__or__',\n",
       " '__orig_bases__',\n",
       " '__parameters__',\n",
       " '__radd__',\n",
       " '__reduce__',\n",
       " '__reduce_ex__',\n",
       " '__repr__',\n",
       " '__reversed__',\n",
       " '__ror__',\n",
       " '__setattr__',\n",
       " '__setitem__',\n",
       " '__sizeof__',\n",
       " '__slots__',\n",
       " '__str__',\n",
       " '__subclasshook__',\n",
       " '__weakref__',\n",
       " '_is_protocol',\n",
       " 'clear',\n",
       " 'copy',\n",
       " 'fromkeys',\n",
       " 'get',\n",
       " 'items',\n",
       " 'keys',\n",
       " 'pop',\n",
       " 'popitem',\n",
       " 'setdefault',\n",
       " 'update',\n",
       " 'values']"
      ]
     },
     "execution_count": 37,
     "metadata": {},
     "output_type": "execute_result"
    }
   ],
   "source": [
    "dir(event)"
   ]
  },
  {
   "cell_type": "code",
   "execution_count": 30,
   "metadata": {},
   "outputs": [
    {
     "name": "stdout",
     "output_type": "stream",
     "text": [
      "('Assistant: In a cozy pond, there was a little frog named Freddy. Freddy '\n",
      " 'loved to hop and play in the water. One day, he met a colorful butterfly '\n",
      " 'named Bella. They became fast friends and played all day. When the sun began '\n",
      " 'to set, Bella had to go find a place to sleep. Freddy smiled and watched her '\n",
      " 'fly away, excited for their next adventure. As the moon rose, Freddy fell '\n",
      " 'asleep, dreaming of his new friend. The end.')\n"
     ]
    }
   ],
   "source": [
    "import pprint\n",
    "message_str = f'''Assistant: {value[\"messages\"][-1].content}'''\n",
    "pprint.pprint(message_str)"
   ]
  },
  {
   "cell_type": "code",
   "execution_count": null,
   "metadata": {},
   "outputs": [],
   "source": []
  }
 ],
 "metadata": {
  "kernelspec": {
   "display_name": "aug2024",
   "language": "python",
   "name": "python3"
  },
  "language_info": {
   "codemirror_mode": {
    "name": "ipython",
    "version": 3
   },
   "file_extension": ".py",
   "mimetype": "text/x-python",
   "name": "python",
   "nbconvert_exporter": "python",
   "pygments_lexer": "ipython3",
   "version": "3.9.9"
  }
 },
 "nbformat": 4,
 "nbformat_minor": 2
}
